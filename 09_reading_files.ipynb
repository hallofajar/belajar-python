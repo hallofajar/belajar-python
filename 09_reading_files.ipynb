{
 "cells": [
  {
   "cell_type": "markdown",
   "metadata": {},
   "source": [
    "# Reading Files\n",
    "\n",
    "Python provides built-in functions for reading and writing files.  "
   ]
  },
  {
   "cell_type": "markdown",
   "metadata": {},
   "source": [
    "To read a file, we must know the path of the file on the disk. Python has a module called `os` that has helper functions that helps dealing with the the operating system. Advantage of using the `os` module is that the code you write will work without change on any suppored operating systems."
   ]
  },
  {
   "cell_type": "code",
   "execution_count": 11,
   "metadata": {},
   "outputs": [],
   "source": [
    "import os"
   ]
  },
  {
   "cell_type": "markdown",
   "metadata": {},
   "source": [
    "To open a file, we need to know the path to the file. We will now open and read the file `worldcitites.csv` located in your data package. In your data package the data folder is in the `data/` directory. We can construct the relative path to the file using the `os.path.join()` method."
   ]
  },
  {
   "cell_type": "code",
   "execution_count": 12,
   "metadata": {},
   "outputs": [
    {
     "name": "stdout",
     "output_type": "stream",
     "text": [
      "data/worldcities.csv\n"
     ]
    }
   ],
   "source": [
    "data_pkg_path = 'data'\n",
    "filename = 'worldcities.csv'\n",
    "path = os.path.join(data_pkg_path, filename)\n",
    "print(path)"
   ]
  },
  {
   "cell_type": "markdown",
   "metadata": {},
   "source": [
    "To open the file, use the built-in `open()` function. We specify the *mode* as `r` which means read-only. If we wanted to change the file contents or write a new file, we would open it with `w` mode.\n",
    "\n",
    "Our input file also contains Unicode characters, so we specify `UTF-8` as the encoding.\n",
    "\n",
    "The open() function returns a file object. We can call the  `readline()` method for reading the content of the file, one line at a time.\n",
    "\n",
    "It is a good practice to always close the file when you are done with it. To close the file, we must call the `close()` method on the file object."
   ]
  },
  {
   "cell_type": "code",
   "execution_count": 13,
   "metadata": {},
   "outputs": [
    {
     "name": "stdout",
     "output_type": "stream",
     "text": [
      "\"city\",\"city_ascii\",\"lat\",\"lng\",\"country\",\"iso2\",\"iso3\",\"admin_name\",\"capital\",\"population\",\"id\"\n",
      "\n",
      "\"Tokyo\",\"Tokyo\",\"35.6850\",\"139.7514\",\"Japan\",\"JP\",\"JPN\",\"Tōkyō\",\"primary\",\"35676000\",\"1392685764\"\n",
      "\n",
      "<_io.TextIOWrapper name='data/worldcities.csv' mode='r' encoding='utf-8'>\n"
     ]
    }
   ],
   "source": [
    "f = open(path, 'r', encoding='utf-8')\n",
    "print(f.readline())\n",
    "print(f.readline())\n",
    "\n",
    "f.close()"
   ]
  },
  {
   "cell_type": "markdown",
   "metadata": {},
   "source": [
    "Calling `readline()` for each line of the file is tedious. Ideally, we want to loop through all the lines in file. You can iterate through the file object like below.\n",
    "\n",
    "We can loop through each line of the file and increase the `count` variable by 1 for each iteration of the loop. At the end, the count variable's value will be equal to the number of lines in the file."
   ]
  },
  {
   "cell_type": "code",
   "execution_count": null,
   "metadata": {},
   "outputs": [],
   "source": [
    "f = open(path, 'r', encoding='utf-8')\n",
    "\n",
    "\n",
    "count = 0\n",
    "for line in f:\n",
    "    count += 1\n",
    "f.close()\n",
    "print(count)"
   ]
  },
  {
   "cell_type": "markdown",
   "metadata": {},
   "source": [
    "## Exercise\n",
    "\n",
    "Print first 5 lines of the file. \n",
    "\n",
    "- Hint: Use break statement"
   ]
  },
  {
   "cell_type": "code",
   "execution_count": 24,
   "metadata": {},
   "outputs": [
    {
     "name": "stdout",
     "output_type": "stream",
     "text": [
      "\"Multan\",\"Multan\",\"30.2000\",\"71.4550\",\"Pakistan\",\"PK\",\"PAK\",\"Punjab\",\"minor\",\"1522000\",\"1586256291\"\n",
      "\n",
      "\"Kochi\",\"Kochi\",\"10.0150\",\"76.2239\",\"India\",\"IN\",\"IND\",\"Kerala\",\"\",\"1519000\",\"1356707865\"\n",
      "\n",
      "\"Montevideo\",\"Montevideo\",\"-34.8580\",\"-56.1711\",\"Uruguay\",\"UY\",\"URY\",\"Montevideo\",\"primary\",\"1513000\",\"1858107000\"\n",
      "\n",
      "\"Gujranwala\",\"Gujranwala\",\"32.1604\",\"74.1850\",\"Pakistan\",\"PK\",\"PAK\",\"Punjab\",\"minor\",\"1513000\",\"1586400472\"\n",
      "\n",
      "\"Niterói\",\"Niteroi\",\"-22.9000\",\"-43.1000\",\"Brazil\",\"BR\",\"BRA\",\"Rio de Janeiro\",\"\",\"1500513\",\"1076501425\"\n",
      "\n",
      "\"Ganzhou\",\"Ganzhou\",\"25.9200\",\"114.9500\",\"China\",\"CN\",\"CHN\",\"Jiangxi\",\"minor\",\"1500000\",\"1156832475\"\n",
      "\n",
      "\"Florence\",\"Florence\",\"43.7800\",\"11.2500\",\"Italy\",\"IT\",\"ITA\",\"Tuscany\",\"admin\",\"1500000\",\"1380726561\"\n",
      "\n",
      "\"Liuzhou\",\"Liuzhou\",\"24.2800\",\"109.2500\",\"China\",\"CN\",\"CHN\",\"Guangxi\",\"minor\",\"1497000\",\"1156360785\"\n",
      "\n",
      "\"Bamako\",\"Bamako\",\"12.6500\",\"-8.0000\",\"Mali\",\"ML\",\"MLI\",\"Bamako\",\"primary\",\"1494000\",\"1466965925\"\n",
      "\n",
      "\"Conakry\",\"Conakry\",\"9.5315\",\"-13.6802\",\"Guinea\",\"GN\",\"GIN\",\"Conakry\",\"primary\",\"1494000\",\"1324568159\"\n",
      "\n",
      "\"Bursa\",\"Bursa\",\"40.2000\",\"29.0700\",\"Turkey\",\"TR\",\"TUR\",\"Bursa\",\"admin\",\"1492000\",\"1792903330\"\n",
      "\n",
      "\"León de los Aldama\",\"Leon de los Aldama\",\"21.1500\",\"-101.7000\",\"Mexico\",\"MX\",\"MEX\",\"Guanajuato\",\"minor\",\"1488000\",\"1484811199\"\n",
      "\n",
      "\"Virginia Beach\",\"Virginia Beach\",\"36.7335\",\"-76.0435\",\"United States\",\"US\",\"USA\",\"Virginia\",\"\",\"1480383.0\",\"1840003871\"\n",
      "\n",
      "\"Nāsik\",\"Nasik\",\"20.0004\",\"73.7800\",\"India\",\"IN\",\"IND\",\"Mahārāshtra\",\"\",\"1473000\",\"1356562598\"\n",
      "\n",
      "\"Fushun\",\"Fushun\",\"41.8654\",\"123.8700\",\"China\",\"CN\",\"CHN\",\"Liaoning\",\"\",\"1470000\",\"1156857743\"\n",
      "\n",
      "\"Changde\",\"Changde\",\"29.0300\",\"111.6800\",\"China\",\"CN\",\"CHN\",\"Hunan\",\"minor\",\"1469000\",\"1156449091\"\n",
      "\n",
      "\"Daejeon\",\"Daejeon\",\"36.3355\",\"127.4250\",\"Korea, South\",\"KR\",\"KOR\",\"Daejeon\",\"admin\",\"1468000\",\"1410993875\"\n",
      "\n",
      "\"Charlotte\",\"Charlotte\",\"35.2079\",\"-80.8304\",\"United States\",\"US\",\"USA\",\"North Carolina\",\"\",\"1467362.0\",\"1840014557\"\n",
      "\n",
      "\"Phnom Penh\",\"Phnom Penh\",\"11.5500\",\"104.9166\",\"Cambodia\",\"KH\",\"KHM\",\"Phnom Penh\",\"primary\",\"1466000\",\"1116260534\"\n",
      "\n",
      "\"Neijiang\",\"Neijiang\",\"29.5804\",\"105.0500\",\"China\",\"CN\",\"CHN\",\"Sichuan\",\"minor\",\"1466000\",\"1156516335\"\n",
      "\n",
      "\"Quanzhou\",\"Quanzhou\",\"24.9000\",\"118.5800\",\"China\",\"CN\",\"CHN\",\"Fujian\",\"minor\",\"1463000\",\"1156829655\"\n",
      "\n",
      "\"Kharkiv\",\"Kharkiv\",\"50.0000\",\"36.2500\",\"Ukraine\",\"UA\",\"UKR\",\"Kharkivs’ka Oblast’\",\"admin\",\"1461000\",\"1804588111\"\n",
      "\n",
      "\"Hyderabad City\",\"Hyderabad City\",\"25.3800\",\"68.3750\",\"Pakistan\",\"PK\",\"PAK\",\"Sindh\",\"\",\"1459000\",\"1586427790\"\n",
      "\n",
      "\"Bronx\",\"Bronx\",\"40.8501\",\"-73.8662\",\"United States\",\"US\",\"USA\",\"New York\",\"\",\"1455720\",\"1840033999\"\n",
      "\n",
      "\"Lomé\",\"Lome\",\"6.1319\",\"1.2228\",\"Togo\",\"TG\",\"TGO\",\"Maritime\",\"primary\",\"1452000\",\"1768409132\"\n",
      "\n",
      "\"Córdoba\",\"Cordoba\",\"-31.4000\",\"-64.1823\",\"Argentina\",\"AR\",\"ARG\",\"Córdoba\",\"admin\",\"1452000\",\"1032803249\"\n",
      "\n",
      "\"Huainan\",\"Huainan\",\"32.6300\",\"116.9800\",\"China\",\"CN\",\"CHN\",\"Anhui\",\"\",\"1451000\",\"1156877299\"\n",
      "\n",
      "\"Doha\",\"Doha\",\"25.2866\",\"51.5330\",\"Qatar\",\"QA\",\"QAT\",\"Ad Dawḩah\",\"primary\",\"1450000\",\"1634459660\"\n",
      "\n",
      "\"Kuala Lumpur\",\"Kuala Lumpur\",\"3.1667\",\"101.7000\",\"Malaysia\",\"MY\",\"MYS\",\"Kuala Lumpur \",\"primary\",\"1448000\",\"1458988644\"\n",
      "\n",
      "\"Maputo\",\"Maputo\",\"-25.9553\",\"32.5892\",\"Mozambique\",\"MZ\",\"MOZ\",\"Maputo\",\"primary\",\"1446000\",\"1508074843\"\n",
      "\n",
      "\"Kaduna\",\"Kaduna\",\"10.5200\",\"7.4400\",\"Nigeria\",\"NG\",\"NGA\",\"Kaduna\",\"admin\",\"1442000\",\"1566368729\"\n",
      "\n",
      "\"Gwangju\",\"Gwangju\",\"35.1710\",\"126.9104\",\"Korea, South\",\"KR\",\"KOR\",\"Gwangju\",\"admin\",\"1440000\",\"1410000087\"\n",
      "\n",
      "\"Kawanakajima\",\"Kawanakajima\",\"35.5300\",\"139.7050\",\"Japan\",\"JP\",\"JPN\",\"Kanagawa\",\"\",\"1437266\",\"1392879600\"\n",
      "\n",
      "\"San Salvador\",\"San Salvador\",\"13.7100\",\"-89.2030\",\"El Salvador\",\"SV\",\"SLV\",\"San Salvador\",\"primary\",\"1433000\",\"1222647454\"\n",
      "\n",
      "\"Suining\",\"Suining\",\"30.5333\",\"105.5333\",\"China\",\"CN\",\"CHN\",\"Sichuan\",\"minor\",\"1425000\",\"1156655650\"\n",
      "\n",
      "\"Lyon\",\"Lyon\",\"45.7700\",\"4.8300\",\"France\",\"FR\",\"FRA\",\"Auvergne-Rhône-Alpes\",\"admin\",\"1423000\",\"1250196189\"\n",
      "\n",
      "\"Karaj\",\"Karaj\",\"35.8004\",\"50.9700\",\"Iran\",\"IR\",\"IRN\",\"Alborz\",\"admin\",\"1423000\",\"1364258511\"\n",
      "\n",
      "\"Kampala\",\"Kampala\",\"0.3167\",\"32.5833\",\"Uganda\",\"UG\",\"UGA\",\"Kampala\",\"primary\",\"1420000\",\"1800406299\"\n",
      "\n",
      "\"Tabrīz\",\"Tabriz\",\"38.0863\",\"46.3012\",\"Iran\",\"IR\",\"IRN\",\"Āz̄arbāyjān-e Sharqī\",\"admin\",\"1413000\",\"1364141756\"\n",
      "\n",
      "\"The Hague\",\"The Hague\",\"52.0800\",\"4.2700\",\"Netherlands\",\"NL\",\"NLD\",\"Zuid-Holland\",\"primary\",\"1406000\",\"1528799905\"\n",
      "\n",
      "\"Davao\",\"Davao\",\"7.1100\",\"125.6300\",\"Philippines\",\"PH\",\"PHL\",\"Davao\",\"admin\",\"1402000\",\"1608906877\"\n",
      "\n",
      "\"Marseille\",\"Marseille\",\"43.2900\",\"5.3750\",\"France\",\"FR\",\"FRA\",\"Provence-Alpes-Côte d’Azur\",\"admin\",\"1400000\",\"1250774071\"\n",
      "\n",
      "\"Meerut\",\"Meerut\",\"29.0004\",\"77.7000\",\"India\",\"IN\",\"IND\",\"Uttar Pradesh\",\"\",\"1398000\",\"1356390476\"\n",
      "\n",
      "\"Mianyang\",\"Mianyang\",\"31.4700\",\"104.7700\",\"China\",\"CN\",\"CHN\",\"Sichuan\",\"minor\",\"1396000\",\"1156417758\"\n",
      "\n",
      "\"Semarang\",\"Semarang\",\"-6.9666\",\"110.4200\",\"Indonesia\",\"ID\",\"IDN\",\"Jawa Tengah\",\"admin\",\"1396000\",\"1360745537\"\n",
      "\n",
      "\"Farīdābād\",\"Faridabad\",\"28.4333\",\"77.3167\",\"India\",\"IN\",\"IND\",\"Haryāna\",\"\",\"1394000\",\"1356013205\"\n",
      "\n",
      "\"Novosibirsk\",\"Novosibirsk\",\"55.0300\",\"82.9600\",\"Russia\",\"RU\",\"RUS\",\"Novosibirskaya Oblast’\",\"admin\",\"1389000\",\"1643399240\"\n",
      "\n",
      "\"Mecca\",\"Mecca\",\"21.4300\",\"39.8200\",\"Saudi Arabia\",\"SA\",\"SAU\",\"Makkah al Mukarramah\",\"admin\",\"1385000\",\"1682169241\"\n",
      "\n",
      "\"Dubai\",\"Dubai\",\"25.2300\",\"55.2800\",\"United Arab Emirates\",\"AE\",\"ARE\",\"Dubayy\",\"admin\",\"1379000\",\"1784736618\"\n",
      "\n",
      "\"Milwaukee\",\"Milwaukee\",\"43.0642\",\"-87.9673\",\"United States\",\"US\",\"USA\",\"Wisconsin\",\"\",\"1377808.0\",\"1840003046\"\n",
      "\n",
      "\"Auckland\",\"Auckland\",\"-36.8481\",\"174.7630\",\"New Zealand\",\"NZ\",\"NZL\",\"Auckland\",\"admin\",\"1377200\",\"1554435911\"\n",
      "\n",
      "\"Ma’anshan\",\"Ma'anshan\",\"31.7304\",\"118.4800\",\"China\",\"CN\",\"CHN\",\"Anhui\",\"minor\",\"1366302\",\"1156847452\"\n",
      "\n",
      "\"Brazzaville\",\"Brazzaville\",\"-4.2592\",\"15.2847\",\"Congo (Brazzaville)\",\"CG\",\"COG\",\"Brazzaville\",\"primary\",\"1355000\",\"1178340306\"\n",
      "\n",
      "\"Yiyang\",\"Yiyang\",\"28.6004\",\"112.3300\",\"China\",\"CN\",\"CHN\",\"Hunan\",\"\",\"1352000\",\"1156218615\"\n",
      "\n",
      "\"Vārānasi\",\"Varanasi\",\"25.3300\",\"83.0000\",\"India\",\"IN\",\"IND\",\"Uttar Pradesh\",\"\",\"1352000\",\"1356145782\"\n",
      "\n",
      "\"Lubumbashi\",\"Lubumbashi\",\"-11.6800\",\"27.4800\",\"Congo (Kinshasa)\",\"CD\",\"COD\",\"Haut-Katanga\",\"admin\",\"1352000\",\"1180506234\"\n",
      "\n",
      "\"Juárez\",\"Juarez\",\"31.6904\",\"-106.4900\",\"Mexico\",\"MX\",\"MEX\",\"Chihuahua\",\"minor\",\"1343000\",\"1484840083\"\n",
      "\n",
      "\"Ghāziābād\",\"Ghaziabad\",\"28.6604\",\"77.4084\",\"India\",\"IN\",\"IND\",\"Uttar Pradesh\",\"\",\"1341000\",\"1356691871\"\n",
      "\n",
      "\"Pretoria\",\"Pretoria\",\"-25.7069\",\"28.2294\",\"South Africa\",\"ZA\",\"ZAF\",\"Gauteng\",\"primary\",\"1338000\",\"1710176249\"\n",
      "\n",
      "\"Heze\",\"Heze\",\"35.2300\",\"115.4500\",\"China\",\"CN\",\"CHN\",\"Shandong\",\"minor\",\"1338000\",\"1156225008\"\n",
      "\n",
      "\"Porto\",\"Porto\",\"41.1500\",\"-8.6200\",\"Portugal\",\"PT\",\"PRT\",\"Porto\",\"admin\",\"1337000\",\"1620356810\"\n",
      "\n",
      "\"Āsansol\",\"Asansol\",\"23.6833\",\"86.9833\",\"India\",\"IN\",\"IND\",\"West Bengal\",\"\",\"1328000\",\"1356093694\"\n",
      "\n",
      "\"Lusaka\",\"Lusaka\",\"-15.4166\",\"28.2833\",\"Zambia\",\"ZM\",\"ZMB\",\"Lusaka\",\"primary\",\"1328000\",\"1894157390\"\n",
      "\n",
      "\"Changzhou\",\"Changzhou\",\"31.7800\",\"119.9700\",\"China\",\"CN\",\"CHN\",\"Jiangsu\",\"minor\",\"1327000\",\"1156185511\"\n",
      "\n",
      "\"Mosul\",\"Mosul\",\"36.3450\",\"43.1450\",\"Iraq\",\"IQ\",\"IRQ\",\"Nīnawá\",\"admin\",\"1316000\",\"1368194914\"\n",
      "\n",
      "\"Yekaterinburg\",\"Yekaterinburg\",\"56.8500\",\"60.6000\",\"Russia\",\"RU\",\"RUS\",\"Sverdlovskaya Oblast’\",\"admin\",\"1313000\",\"1643582706\"\n",
      "\n",
      "\"Peshawar\",\"Peshawar\",\"34.0050\",\"71.5350\",\"Pakistan\",\"PK\",\"PAK\",\"Khyber Pakhtunkhwa\",\"admin\",\"1303000\",\"1586851102\"\n",
      "\n",
      "\"Mandalay\",\"Mandalay\",\"21.9700\",\"96.0850\",\"Burma\",\"MM\",\"MMR\",\"Mandalay\",\"admin\",\"1300000\",\"1104468217\"\n",
      "\n",
      "\"Jamshedpur\",\"Jamshedpur\",\"22.7875\",\"86.1975\",\"India\",\"IN\",\"IND\",\"Jharkhand\",\"\",\"1300000\",\"1356501259\"\n",
      "\n",
      "\"Mbuji-Mayi\",\"Mbuji-Mayi\",\"-6.1500\",\"23.6000\",\"Congo (Kinshasa)\",\"CD\",\"COD\",\"Kasaï Oriental\",\"admin\",\"1295000\",\"1180399586\"\n",
      "\n",
      "\"Madura\",\"Madura\",\"9.9200\",\"78.1200\",\"India\",\"IN\",\"IND\",\"Tamil Nādu \",\"\",\"1294000\",\"1356257289\"\n",
      "\n",
      "\"Adana\",\"Adana\",\"36.9950\",\"35.3200\",\"Turkey\",\"TR\",\"TUR\",\"Adana\",\"admin\",\"1293000\",\"1792783772\"\n",
      "\n",
      "\"Sheffield\",\"Sheffield\",\"53.3667\",\"-1.5000\",\"United Kingdom\",\"GB\",\"GBR\",\"Sheffield\",\"admin\",\"1292900\",\"1826289852\"\n",
      "\n",
      "\"Jabalpur\",\"Jabalpur\",\"23.1751\",\"79.9551\",\"India\",\"IN\",\"IND\",\"Madhya Pradesh\",\"\",\"1285000\",\"1356115460\"\n",
      "\n",
      "\"San José\",\"San Jose\",\"9.9350\",\"-84.0841\",\"Costa Rica\",\"CR\",\"CRI\",\"San José\",\"primary\",\"1284000\",\"1188749877\"\n",
      "\n",
      "\"Panama City\",\"Panama City\",\"8.9680\",\"-79.5330\",\"Panama\",\"PA\",\"PAN\",\"Panamá\",\"primary\",\"1281000\",\"1591672475\"\n",
      "\n",
      "\"Nizhniy Novgorod\",\"Nizhniy Novgorod\",\"56.3330\",\"44.0001\",\"Russia\",\"RU\",\"RUS\",\"Nizhegorodskaya Oblast’\",\"admin\",\"1278000\",\"1643012126\"\n",
      "\n",
      "\"Chifeng\",\"Chifeng\",\"42.2700\",\"118.9500\",\"China\",\"CN\",\"CHN\",\"Inner Mongolia\",\"minor\",\"1277000\",\"1156277458\"\n",
      "\n",
      "\"Duisburg\",\"Duisburg\",\"51.4300\",\"6.7500\",\"Germany\",\"DE\",\"DEU\",\"North Rhine-Westphalia\",\"minor\",\"1276757\",\"1276977172\"\n",
      "\n",
      "\"Munich\",\"Munich\",\"48.1299\",\"11.5750\",\"Germany\",\"DE\",\"DEU\",\"Bavaria\",\"admin\",\"1275000\",\"1276692352\"\n",
      "\n",
      "\"Huaiyin\",\"Huaiyin\",\"33.5800\",\"119.0300\",\"China\",\"CN\",\"CHN\",\"Jiangsu\",\"\",\"1264000\",\"1156662372\"\n",
      "\n",
      "\"Stockholm\",\"Stockholm\",\"59.3508\",\"18.0973\",\"Sweden\",\"SE\",\"SWE\",\"Stockholm\",\"primary\",\"1264000\",\"1752425602\"\n",
      "\n",
      "\"Makassar\",\"Makassar\",\"-5.1400\",\"119.4320\",\"Indonesia\",\"ID\",\"IDN\",\"Sulawesi Selatan\",\"admin\",\"1262000\",\"1360051337\"\n",
      "\n",
      "\"Rājkot\",\"Rajkot\",\"22.3100\",\"70.8000\",\"India\",\"IN\",\"IND\",\"Gujarāt\",\"\",\"1260000\",\"1356317190\"\n",
      "\n",
      "\"Dhanbād\",\"Dhanbad\",\"23.8004\",\"86.4200\",\"India\",\"IN\",\"IND\",\"Jharkhand\",\"\",\"1246000\",\"1356103392\"\n",
      "\n",
      "\"Mudanjiang\",\"Mudanjiang\",\"44.5750\",\"129.5900\",\"China\",\"CN\",\"CHN\",\"Heilongjiang\",\"minor\",\"1244000\",\"1156249698\"\n",
      "\n",
      "\"Geneva\",\"Geneva\",\"46.2100\",\"6.1400\",\"Switzerland\",\"CH\",\"CHE\",\"Genève\",\"admin\",\"1240000\",\"1756810813\"\n",
      "\n",
      "\"Shīrāz\",\"Shiraz\",\"29.6300\",\"52.5700\",\"Iran\",\"IR\",\"IRN\",\"Fārs\",\"admin\",\"1240000\",\"1364432238\"\n",
      "\n",
      "\"Huzhou\",\"Huzhou\",\"30.8704\",\"120.1000\",\"China\",\"CN\",\"CHN\",\"Zhejiang\",\"minor\",\"1231000\",\"1156335543\"\n",
      "\n",
      "\"Beidao\",\"Beidao\",\"34.6000\",\"105.9200\",\"China\",\"CN\",\"CHN\",\"Gansu\",\"minor\",\"1225000\",\"1156137209\"\n",
      "\n",
      "\"Shuangshui\",\"Shuangshui\",\"26.5944\",\"104.8333\",\"China\",\"CN\",\"CHN\",\"Guizhou\",\"\",\"1221000\",\"1156070389\"\n",
      "\n",
      "\"Düsseldorf\",\"Dusseldorf\",\"51.2204\",\"6.7800\",\"Germany\",\"DE\",\"DEU\",\"North Rhine-Westphalia\",\"admin\",\"1220000\",\"1276615258\"\n",
      "\n",
      "\"Gaozhou\",\"Gaozhou\",\"21.9204\",\"110.8700\",\"China\",\"CN\",\"CHN\",\"Guangdong\",\"\",\"1217715\",\"1156785303\"\n",
      "\n",
      "\"Sevilla\",\"Sevilla\",\"37.4050\",\"-5.9800\",\"Spain\",\"ES\",\"ESP\",\"Andalusia\",\"admin\",\"1212045\",\"1724991838\"\n",
      "\n",
      "\"Amritsar\",\"Amritsar\",\"31.6400\",\"74.8700\",\"India\",\"IN\",\"IND\",\"Punjab\",\"\",\"1212000\",\"1356926507\"\n",
      "\n",
      "\"Vila Velha\",\"Vila Velha\",\"-20.3676\",\"-40.3180\",\"Brazil\",\"BR\",\"BRA\",\"Espírito Santo\",\"\",\"1209091\",\"1076404077\"\n",
      "\n",
      "\"Vila Velha\",\"Vila Velha\",\"3.2167\",\"-51.2167\",\"Brazil\",\"BR\",\"BRA\",\"Amapá\",\"\",\"1209091\",\"1076575691\"\n",
      "\n",
      "\"Almaty\",\"Almaty\",\"43.3250\",\"76.9150\",\"Kazakhstan\",\"KZ\",\"KAZ\",\"Almaty\",\"admin\",\"1209000\",\"1398351701\"\n",
      "\n",
      "\"Providence\",\"Providence\",\"41.8230\",\"-71.4187\",\"United States\",\"US\",\"USA\",\"Rhode Island\",\"admin\",\"1206642.0\",\"1840003289\"\n",
      "\n"
     ]
    }
   ],
   "source": [
    "import os\n",
    "data_pkg_path = 'data'\n",
    "filename = 'worldcities.csv'\n",
    "path = os.path.join(data_pkg_path, filename)\n",
    "\n",
    "f = open(path, 'r', encoding='utf-8')\n",
    "\n",
    "count = 0\n",
    "for x in range(700):\n",
    "    if x > 300 and x < 400:\n",
    "        print(f.readline())\n",
    "    else:\n",
    "        f.readline()\n",
    "   \n",
    "    \n",
    "f.close()\n",
    "    \n",
    "    \n",
    "# Add code to open the file and read first 5 lines"
   ]
  },
  {
   "cell_type": "markdown",
   "metadata": {},
   "source": [
    "----"
   ]
  }
 ],
 "metadata": {
  "kernelspec": {
   "display_name": "Python 3",
   "language": "python",
   "name": "python3"
  },
  "language_info": {
   "codemirror_mode": {
    "name": "ipython",
    "version": 3
   },
   "file_extension": ".py",
   "mimetype": "text/x-python",
   "name": "python",
   "nbconvert_exporter": "python",
   "pygments_lexer": "ipython3",
   "version": "3.12.4"
  }
 },
 "nbformat": 4,
 "nbformat_minor": 4
}
