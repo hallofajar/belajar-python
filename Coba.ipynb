{
 "cells": [
  {
   "cell_type": "markdown",
   "id": "bed53794-c721-4b90-8946-cb42ae9faeb5",
   "metadata": {},
   "source": [
    "# Latihan Python GeoPandas"
   ]
  },
  {
   "cell_type": "code",
   "execution_count": 3,
   "id": "c0c91ecf-10d1-42d3-9d0e-62c6b3116820",
   "metadata": {},
   "outputs": [],
   "source": [
    "import geopandas\n",
    "import pandas\n",
    "import rasterio"
   ]
  },
  {
   "cell_type": "code",
   "execution_count": null,
   "id": "198c94d4",
   "metadata": {},
   "outputs": [],
   "source": []
  }
 ],
 "metadata": {
  "kernelspec": {
   "display_name": "Python 3 (ipykernel)",
   "language": "python",
   "name": "python3"
  },
  "language_info": {
   "codemirror_mode": {
    "name": "ipython",
    "version": 3
   },
   "file_extension": ".py",
   "mimetype": "text/x-python",
   "name": "python",
   "nbconvert_exporter": "python",
   "pygments_lexer": "ipython3",
   "version": "3.12.4"
  }
 },
 "nbformat": 4,
 "nbformat_minor": 5
}
